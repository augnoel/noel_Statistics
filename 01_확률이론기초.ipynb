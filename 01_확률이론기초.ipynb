{
 "cells": [
  {
   "attachments": {
    "image.png": {
     "image/png": "[encoded data removed]"
    }
   },
   "cell_type": "markdown",
   "metadata": {},
   "source": [
    "# 확률 이론 기초\n",
    "## 1. 확률의 정의\n",
    "### 1.1 고전적 확률\n",
    "- 결과가 균등하게 발생하는 상황에서 사용(예를 들어, 동전 던지기, 주사위 던지기)\n",
    "- 가능한 모든 결과의 수를 분모, 관심있는 사건이 발생하는 경우의 수를 분자로 하여 계산\n",
    "\n",
    "![image.png](attachment:image.png)\n"
   ]
  },
  {
   "cell_type": "code",
   "execution_count": 1,
   "metadata": {},
   "outputs": [
    {
     "name": "stdout",
     "output_type": "stream",
     "text": [
      "주사위에서 4가 나올 확률: 0.16666666666666666\n",
      "동전에서 앞면이 나올 확률: 0.5\n"
     ]
    }
   ],
   "source": [
    "# 주사위 던지기에서 특정 숫자가 나올 확률 계산\n",
    "def classical_probability(event_outcomes, total_outcomes):\n",
    "    # 사건 발생 경우의 수 / 모든 결과\n",
    "    return event_outcomes / total_outcomes\n",
    "\n",
    "# 주사위 예시 (6면 주사위에서 4가 나올 확률)\n",
    "total_outcomes = 6\n",
    "event_outcomes = 1\n",
    "prob_4 = classical_probability(event_outcomes, total_outcomes)\n",
    "print(f\"주사위에서 4가 나올 확률: {prob_4}\")\n",
    "\n",
    "# 동전 던지기 예시 (앞면이 나올 확률)\n",
    "total_outcomes = 2\n",
    "event_outcomes = 1\n",
    "prob_heads = classical_probability(event_outcomes, total_outcomes)\n",
    "print(f\"동전에서 앞면이 나올 확률: {prob_heads}\")"
   ]
  },
  {
   "attachments": {
    "image.png": {
     "image/png": "[encoded data removed]"
    }
   },
   "cell_type": "markdown",
   "metadata": {},
   "source": [
    "### 1.2 빈도적 확률\n",
    "- 어떤 사건이 반복적인 실험에서 얼마나 자주 발생하는지를 기반\n",
    "- 실험은 여러 번 반복하여 사건이 발생한 횟수를 전체 실험 횟수로 나누어 계산\n",
    "\n",
    "![image.png](attachment:image.png)"
   ]
  },
  {
   "cell_type": "code",
   "execution_count": 2,
   "metadata": {},
   "outputs": [
    {
     "name": "stdout",
     "output_type": "stream",
     "text": [
      "100번 주사위를 던져서 4가 나올 확률: 0.2\n"
     ]
    }
   ],
   "source": [
    "import random\n",
    "\n",
    "# 주사위를 n번 던져서 특정 숫자가 나오는 횟수를 세는 함수\n",
    "def frequency_probability(trials, target_outcome, dice_sides=6):\n",
    "    count = 0\n",
    "    for _ in range(trials):\n",
    "        if random.randint(1, dice_sides) == target_outcome:\n",
    "            count += 1\n",
    "    return count / trials\n",
    "\n",
    "# 100번 주사위를 던져서 4가 나올 확률 계산\n",
    "trials = 100\n",
    "target_outcome = 4\n",
    "prob_4_freq = frequency_probability(trials, target_outcome)\n",
    "print(f\"100번 주사위를 던져서 4가 나올 확률: {prob_4_freq}\")"
   ]
  },
  {
   "cell_type": "markdown",
   "metadata": {},
   "source": [
    "### 1.3 주관적 확률\n",
    "- 특정 사건에 대한 개인의 신념이나 판단을 기반\n",
    "- 개인의 경험, 정보, 직관 등에 따라 달라질 수 있음\n",
    "- 예\n",
    "    - 어떤 경기가 열렸을 때 팀 A가 이길 확률은 60%\n",
    "    - 어떤 사람은 비가 올 가능성을 70% 판단"
   ]
  },
  {
   "cell_type": "markdown",
   "metadata": {},
   "source": [
    "## 2. 사건과 표본 공간\n",
    "### 2.1 사건 (Event)\n",
    "- 실험이나 관찰의 결과 중 특정한 조건을 만족하는 경우\n",
    "- 사건은 여러 가지 결과의 집합으로 표현될 수 있음\n",
    "- 예\n",
    "    - 주사위 던져 짝수가 나올 사건 A : A = {2, 4, 6}\n",
    "    - 동전 던지기에서 앞면이 나올 사건 B : B = {앞면}"
   ]
  },
  {
   "cell_type": "code",
   "execution_count": 4,
   "metadata": {},
   "outputs": [
    {
     "name": "stdout",
     "output_type": "stream",
     "text": [
      "주사위 던졌을 때 짝수 나오는 사건: {2, 4, 6}\n",
      "동전 던졌을 때 앞면 나오는 사건: {'앞면'}\n"
     ]
    }
   ],
   "source": [
    "# 주사위를 던졌을 때 짝수가 나오는 사건\n",
    "event_even = {2, 4, 6}\n",
    "print(f\"주사위 던졌을 때 짝수 나오는 사건: {event_even}\")\n",
    "\n",
    "# 동전을 던졌을 때 앞면이 나오는 사건\n",
    "event_heads = {\"앞면\"}\n",
    "print(f\"동전 던졌을 때 앞면 나오는 사건: {event_heads}\")"
   ]
  },
  {
   "cell_type": "markdown",
   "metadata": {},
   "source": [
    "### 2.2 표본 공간 (Sample Space)\n",
    "- 실험이나 관찰에서 가능한 모든 결과의 집합\n",
    "- 모든 사건은 표본 공간의 부분집합으로 볼 수 있음"
   ]
  },
  {
   "cell_type": "code",
   "execution_count": 5,
   "metadata": {},
   "outputs": [
    {
     "name": "stdout",
     "output_type": "stream",
     "text": [
      "주사위 던졌을 때 가능한 모든 결과의 집합: {1, 2, 3, 4, 5, 6}\n",
      "동전 던졌을 때 가능한 모든 결과의 집합: {'앞면', '뒷면'}\n"
     ]
    }
   ],
   "source": [
    "# 주사위를 던졌을 때 가능한 모든 결과의 집합\n",
    "sample_space_dice = {1, 2, 3, 4, 5, 6}\n",
    "print(f\"주사위 던졌을 때 가능한 모든 결과의 집합: {sample_space_dice}\")\n",
    "\n",
    "# 동전을 던졌을 때 가능한 모든 결과의 집합\n",
    "sample_space_coin = {\"앞면\", \"뒷면\"}\n",
    "print(f\"동전 던졌을 때 가능한 모든 결과의 집합: {sample_space_coin}\")"
   ]
  },
  {
   "cell_type": "markdown",
   "metadata": {},
   "source": [
    "### 2.3 사건의 종류 (단순 사건, 복합 사건)\n",
    "- 단순 사건 Simple Event\n",
    "    - 단순 사건은 표본 공간의 하나의 결과 구성된 사건\n",
    "- 복합 사건 Compound Event\n",
    "    - 복합 사건은 표본 공간의 여러 결과로 구성된 사건"
   ]
  },
  {
   "cell_type": "code",
   "execution_count": 6,
   "metadata": {},
   "outputs": [
    {
     "name": "stdout",
     "output_type": "stream",
     "text": [
      "단순 사건 (주사위 던지기에서 3이 나오는 경우): {3}\n",
      "복합 사건 (주사위 던지기에서 짝수가 나오는 경우): {2, 4, 6}\n"
     ]
    }
   ],
   "source": [
    "# 단순 사건 예시\n",
    "simple_event = {3}\n",
    "print(f\"단순 사건 (주사위 던지기에서 3이 나오는 경우): {simple_event}\")\n",
    "\n",
    "# 복합 사건 예시\n",
    "compound_event = {2, 4, 6}\n",
    "print(f\"복합 사건 (주사위 던지기에서 짝수가 나오는 경우): {compound_event}\")"
   ]
  },
  {
   "cell_type": "markdown",
   "metadata": {},
   "source": [
    "## 3.  확률의 기본 성질\n",
    "### 3.1 확률의 공리 (Kolmogorov의 공리)\n",
    "- Kolmogorov의 확률 이론 3가지 기본 공기\n",
    "1. 비음성성 공리 Non-negativity Axiom\n",
    "- 모든 사건 A에 대해 P(A)≥0\n",
    "2. 정규화 공리 Normaalization Axiom\n",
    "- 표본 공간 S에 대해 P(S)=1\n",
    "3. 가산성 공리 Additivity Axiom\n",
    "- 서로 배반적인 사건 A와 B에 대해 P(A∪B)=P(A)+P(B)"
   ]
  },
  {
   "cell_type": "markdown",
   "metadata": {},
   "source": [
    "### 3.2 합의 법칙 Law of Addition\n",
    "1. 서로 배반적인 사건 Mutually Exclusive Events\n",
    "    - A와 B가 서로 배반적이면, P(A∪B)=P(A)+P(B)\n",
    "2. 일반적인 경우\n",
    "    - P(A∪B)=P(A)+P(B)−P(A∩B)"
   ]
  },
  {
   "cell_type": "code",
   "execution_count": 7,
   "metadata": {},
   "outputs": [
    {
     "name": "stdout",
     "output_type": "stream",
     "text": [
      "서로 배반적인 사건 A 또는 B가 발생할 확률: 0.5\n",
      "일반적인 경우 A 또는 B가 발생할 확률: 0.4\n"
     ]
    }
   ],
   "source": [
    "# 합의 법칙 구현 예시\n",
    "def addition_law(P_A, P_B, P_A_and_B=0):\n",
    "    return P_A + P_B - P_A_and_B\n",
    "\n",
    "# 예시 (서로 배반적인 사건)\n",
    "P_A = 0.2\n",
    "P_B = 0.3\n",
    "P_A_or_B = addition_law(P_A, P_B)\n",
    "print(f\"서로 배반적인 사건 A 또는 B가 발생할 확률: {P_A_or_B}\")\n",
    "\n",
    "# 예시 (일반적인 경우)\n",
    "P_A = 0.2\n",
    "P_B = 0.3\n",
    "P_A_and_B = 0.1\n",
    "P_A_or_B_general = addition_law(P_A, P_B, P_A_and_B)\n",
    "print(f\"일반적인 경우 A 또는 B가 발생할 확률: {P_A_or_B_general}\")"
   ]
  },
  {
   "cell_type": "markdown",
   "metadata": {},
   "source": [
    "### 3.3 곱의 법칙\n",
    "1. 독립 사건 Independent Events\n",
    "    - A와 B가 서로 독립이면, P(A∩B)=P(A)⋅P(B)\n",
    "2. 조건부 확률\n",
    "    - P(A∩B)=P(A)⋅P(B∣A)"
   ]
  },
  {
   "cell_type": "code",
   "execution_count": 8,
   "metadata": {},
   "outputs": [
    {
     "name": "stdout",
     "output_type": "stream",
     "text": [
      "독립 사건 A와 B가 동시에 발생할 확률: 0.2\n",
      "조건부 확률 A와 B가 동시에 발생할 확률: 0.4\n"
     ]
    }
   ],
   "source": [
    "# 곱의 법칙 구현 예시\n",
    "def multiplication_law(P_A, P_B_given_A=None, P_B=None):\n",
    "    if P_B_given_A is not None:\n",
    "        return P_A * P_B_given_A\n",
    "    elif P_B is not None:\n",
    "        return P_A * P_B\n",
    "    else:\n",
    "        raise ValueError(\"P_B_given_A 또는 P_B 중 하나를 제공해야 합니다.\")\n",
    "\n",
    "# 예시 (독립 사건)\n",
    "P_A = 0.5\n",
    "P_B = 0.4\n",
    "P_A_and_B_independent = multiplication_law(P_A, P_B=P_B)\n",
    "print(f\"독립 사건 A와 B가 동시에 발생할 확률: {P_A_and_B_independent}\")\n",
    "\n",
    "# 예시 (조건부 확률)\n",
    "P_A = 0.5\n",
    "P_B_given_A = 0.8\n",
    "P_A_and_B_conditional = multiplication_law(P_A, P_B_given_A=P_B_given_A)\n",
    "print(f\"조건부 확률 A와 B가 동시에 발생할 확률: {P_A_and_B_conditional}\")"
   ]
  },
  {
   "attachments": {
    "image.png": {
     "image/png": "[encoded data removed]"
    }
   },
   "cell_type": "markdown",
   "metadata": {},
   "source": [
    "## 4. 조건부 확률\n",
    "### 4.1 조건부 확률의 정의\n",
    "- 어떤 사건 B가 발생한 상태에서 다른 사건 A가 발생할 확률\n",
    "- 예시\n",
    "    - 2개의 주사위를 던질때, 첫번째 주사위가 3일 때, 두번째 주사위가 짝수일 확률\n",
    "\n",
    "![image.png](attachment:image.png)\n",
    "\n",
    "### 4.2 조건부 확률의 계산\n",
    "- 사건 A와 B의 교집합 확률과 B의 확률"
   ]
  },
  {
   "cell_type": "code",
   "execution_count": 9,
   "metadata": {},
   "outputs": [
    {
     "name": "stdout",
     "output_type": "stream",
     "text": [
      "첫 번째 던진 결과가 3인 경우 두 번째 던진 결과가 짝수일 확률: 0.5\n"
     ]
    }
   ],
   "source": [
    "# 조건부 확률 계산 함수\n",
    "def conditional_probability(P_A_and_B, P_B):\n",
    "    if P_B == 0:\n",
    "        return \"P(B)가 0이므로 조건부 확률을 계산할 수 없습니다.\"\n",
    "    return P_A_and_B / P_B\n",
    "\n",
    "# 주사위를 두 번 던질 때의 조건부 확률 계산 예시\n",
    "# 첫 번째 던진 결과가 3인 경우 두 번째 던진 결과가 짝수일 확률\n",
    "\n",
    "def conditional_probability_dice():\n",
    "    # 전체 주사위 결과\n",
    "    total_outcomes = 6 * 6\n",
    "    \n",
    "    # 첫 번째 던진 결과가 3인 경우의 경우의 수\n",
    "    outcomes_first_3 = 6\n",
    "    \n",
    "    # 첫 번째가 3이고 두 번째가 짝수인 경우의 수\n",
    "    outcomes_first_3_and_second_even = 3  # (3, 2), (3, 4), (3, 6)\n",
    "    \n",
    "    # 조건부 확률 계산\n",
    "    P_B = outcomes_first_3 / total_outcomes  # 첫 번째 던진 결과가 3인 확률\n",
    "    P_A_and_B = outcomes_first_3_and_second_even / total_outcomes  # 첫 번째가 3이고 두 번째가 짝수인 확률\n",
    "    P_A_given_B = conditional_probability(P_A_and_B, P_B)\n",
    "    return P_A_given_B\n",
    "\n",
    "P_A_given_B_dice = conditional_probability_dice()\n",
    "print(f\"첫 번째 던진 결과가 3인 경우 두 번째 던진 결과가 짝수일 확률: {P_A_given_B_dice}\")"
   ]
  },
  {
   "attachments": {
    "image.png": {
     "image/png": "[encoded data removed]"
    }
   },
   "cell_type": "markdown",
   "metadata": {},
   "source": [
    "## 5. 독립 사건\n",
    "### 5.1 독립 사건의 정의\n",
    "- 두 사건 A와 B가 독립적이라고 할 때, 한 사건의 발생이 다른 사건의 발생에 영향을 미치지 않음\n",
    "\n",
    "![image.png](attachment:image.png)"
   ]
  },
  {
   "cell_type": "code",
   "execution_count": 10,
   "metadata": {},
   "outputs": [
    {
     "name": "stdout",
     "output_type": "stream",
     "text": [
      "첫 번째 던진 결과가 3이 되는 사건 A의 확률: 0.16666666666666666\n",
      "두 번째 던진 결과가 짝수가 되는 사건 B의 확률: 0.5\n",
      "독립 사건 A와 B의 교집합 확률: 0.08333333333333333\n"
     ]
    }
   ],
   "source": [
    "# 주사위를 두 번 던지는 경우의 독립 사건 예시\n",
    "# 첫 번째 던진 결과가 3이 되는 사건 A와 두 번째 던진 결과가 짝수가 되는 사건 B\n",
    "\n",
    "P_A = 1/6  # 첫 번째 던진 결과가 3이 되는 확률\n",
    "P_B = 1/2  # 두 번째 던진 결과가 짝수가 되는 확률\n",
    "P_A_and_B = P_A * P_B  # 독립 사건의 교집합 확률\n",
    "\n",
    "print(f\"첫 번째 던진 결과가 3이 되는 사건 A의 확률: {P_A}\")\n",
    "print(f\"두 번째 던진 결과가 짝수가 되는 사건 B의 확률: {P_B}\")\n",
    "print(f\"독립 사건 A와 B의 교집합 확률: {P_A_and_B}\")"
   ]
  },
  {
   "attachments": {
    "image.png": {
     "image/png": "[encoded data removed]"
    }
   },
   "cell_type": "markdown",
   "metadata": {},
   "source": [
    "### 5.2 독립성과 조건부 확률\n",
    "- 두 사건 A와 B가 독립적이면, 사건 B가 발생한 조건에서 사건 A가 발생할 확률 = 사건 A의 원래 확률\n",
    "- 두 사건이 서로 영향을 미치지 않기 때문\n",
    "\n",
    "![image.png](attachment:image.png)"
   ]
  },
  {
   "cell_type": "code",
   "execution_count": 11,
   "metadata": {},
   "outputs": [
    {
     "name": "stdout",
     "output_type": "stream",
     "text": [
      "첫 번째 던진 결과가 3이 되는 사건 A의 조건부 확률 P(A|B): 0.16666666666666666\n",
      "두 번째 던진 결과가 짝수가 되는 사건 B의 조건부 확률 P(B|A): 0.5\n"
     ]
    }
   ],
   "source": [
    "# 주사위를 두 번 던지는 경우의 독립성과 조건부 확률 예시\n",
    "\n",
    "# 첫 번째 던진 결과가 3이 되는 사건 A와 두 번째 던진 결과가 짝수가 되는 사건 B\n",
    "P_A = 1/6  # 첫 번째 던진 결과가 3이 되는 확률\n",
    "P_B = 1/2  # 두 번째 던진 결과가 짝수가 되는 확률\n",
    "P_A_given_B = P_A  # 독립 사건이므로 P(A|B) = P(A)\n",
    "P_B_given_A = P_B  # 독립 사건이므로 P(B|A) = P(B)\n",
    "\n",
    "print(f\"첫 번째 던진 결과가 3이 되는 사건 A의 조건부 확률 P(A|B): {P_A_given_B}\")\n",
    "print(f\"두 번째 던진 결과가 짝수가 되는 사건 B의 조건부 확률 P(B|A): {P_B_given_A}\")"
   ]
  },
  {
   "cell_type": "markdown",
   "metadata": {},
   "source": [
    "## 6. 확률 변수 Random Variable\n",
    "### 6.1 확률 변수의 정의\n",
    "- 각 사건에 숫자 값을 할당하는 함수\n",
    "- 복잡한 사건을 숫자로 표현하여 다루기 쉽게 함\n",
    "\n",
    "### 6.2 이산 확률 변수 Discrete Random Variable\n",
    "- 셀 수 있는 값을 가짐\n",
    "- 예시\n",
    "    - 주사위 눈금, 동전 던지기 결과\n",
    "- 확률 질량 함수 PMF\n",
    "    - 이산 확률 변수 X가 특정 값 x를 가질 확률을 나타내는 함수\n",
    "    - P(X=x)"
   ]
  },
  {
   "cell_type": "code",
   "execution_count": 12,
   "metadata": {},
   "outputs": [
    {
     "name": "stdout",
     "output_type": "stream",
     "text": [
      "주사위 눈금이 3일 확률: 0.16666666666666666\n"
     ]
    }
   ],
   "source": [
    "import numpy as np\n",
    "\n",
    "# 주사위 던지기의 확률 변수와 확률 질량 함수\n",
    "X = [1, 2, 3, 4, 5, 6]\n",
    "probabilities = [1/6] * 6  # 각 눈금이 나올 확률\n",
    "\n",
    "# 특정 값의 확률 계산\n",
    "def pmf(X, probabilities, x):\n",
    "    try:\n",
    "        return probabilities[X.index(x)]\n",
    "    except ValueError:\n",
    "        return 0\n",
    "\n",
    "# 예시: 주사위 눈금이 3일 확률\n",
    "x = 3\n",
    "print(f\"주사위 눈금이 {x}일 확률: {pmf(X, probabilities, x)}\")"
   ]
  },
  {
   "attachments": {
    "image.png": {
     "image/png": "[encoded data removed]"
    }
   },
   "cell_type": "markdown",
   "metadata": {},
   "source": [
    "### 6.3 연속 확률 변수 Continuous Random Variable\n",
    "- 연속적인 값을 가짐\n",
    "- 예시\n",
    "    - 온도, 키, 무게 등\n",
    "- 확률 밀도 함수 PDF \n",
    "    - 연속 확률 변수 X가 특정 구간에 있을 확률을 나타내는 함수f(x)\n",
    "    - 특정 값의 확률은 0이므로 구간을 사용\n",
    "    \n",
    "![image.png](attachment:image.png)"
   ]
  },
  {
   "cell_type": "code",
   "execution_count": 13,
   "metadata": {},
   "outputs": [
    {
     "name": "stdout",
     "output_type": "stream",
     "text": [
      "정규 분포에서 x = 0일 때의 확률 밀도 함수 값: 0.3989422804014327\n",
      "정규 분포에서 P(-1 <= X <= 1): 0.6826894921370859\n"
     ]
    }
   ],
   "source": [
    "import scipy.stats as stats\n",
    "import numpy as np\n",
    "\n",
    "# 연속 확률 변수 예시: 정규 분포 (평균 0, 표준편차 1)\n",
    "mu = 0\n",
    "sigma = 1\n",
    "X = stats.norm(mu, sigma)\n",
    "\n",
    "# 특정 값의 확률 밀도 함수 값 계산\n",
    "x = 0\n",
    "pdf_value = X.pdf(x)\n",
    "print(f\"정규 분포에서 x = {x}일 때의 확률 밀도 함수 값: {pdf_value}\")\n",
    "\n",
    "# 구간 확률 계산: P(-1 <= X <= 1)\n",
    "a, b = -1, 1\n",
    "interval_prob = X.cdf(b) - X.cdf(a)\n",
    "print(f\"정규 분포에서 P({a} <= X <= {b}): {interval_prob}\")"
   ]
  }
 ],
 "metadata": {
  "kernelspec": {
   "display_name": "Python 3",
   "language": "python",
   "name": "python3"
  },
  "language_info": {
   "codemirror_mode": {
    "name": "ipython",
    "version": 3
   },
   "file_extension": ".py",
   "mimetype": "text/x-python",
   "name": "python",
   "nbconvert_exporter": "python",
   "pygments_lexer": "ipython3",
   "version": "3.12.1"
  }
 },
 "nbformat": 4,
 "nbformat_minor": 2
}
